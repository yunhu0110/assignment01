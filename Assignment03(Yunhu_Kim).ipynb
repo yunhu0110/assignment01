{
 "cells": [
  {
   "cell_type": "markdown",
   "metadata": {},
   "source": [
    "# Name : Yunhu_Kim\n",
    "\n",
    "# Student ID : 2018120195\n",
    "# Github :https://github.com/yunhu0110/assignment01"
   ]
  },
  {
   "cell_type": "markdown",
   "metadata": {},
   "source": [
    "# Create Random Function"
   ]
  },
  {
   "cell_type": "code",
   "execution_count": 214,
   "metadata": {},
   "outputs": [],
   "source": [
    "from random import *\n",
    "import random\n",
    "import numpy as np\n",
    "from matplotlib import pyplot as plt\n",
    "\n",
    "\n",
    "def generatePointCluster(n) :\n",
    "    dataX = np.random.rand(n) #n개의 난수\n",
    "    dataY = np.random.rand(n) \n",
    "    data=np.column_stack((dataX,dataY)) #x데이터와 y데이터 열로 묶음\n",
    "    return (data)\n",
    "data=generatePointCluster(30)#30까지 난수 출력"
   ]
  },
  {
   "cell_type": "markdown",
   "metadata": {},
   "source": [
    "# initaliseLabel Function"
   ]
  },
  {
   "cell_type": "code",
   "execution_count": 221,
   "metadata": {},
   "outputs": [
    {
     "data": {
      "text/plain": [
       "array([[0.16353698, 0.18505647, 0.        ],\n",
       "       [0.69291707, 0.65017158, 0.        ],\n",
       "       [0.06484637, 0.11012407, 1.        ],\n",
       "       [0.0566368 , 0.50318895, 1.        ],\n",
       "       [0.03911824, 0.33434667, 0.        ],\n",
       "       [0.97015131, 0.64458612, 1.        ],\n",
       "       [0.68719758, 0.15864399, 1.        ],\n",
       "       [0.86390563, 0.41629868, 0.        ],\n",
       "       [0.82654071, 0.71900254, 1.        ],\n",
       "       [0.239409  , 0.25028623, 1.        ],\n",
       "       [0.01263819, 0.99707337, 1.        ],\n",
       "       [0.90073546, 0.32903994, 1.        ],\n",
       "       [0.45539518, 0.91184116, 0.        ],\n",
       "       [0.9445983 , 0.61467169, 1.        ],\n",
       "       [0.90709446, 0.41312267, 0.        ],\n",
       "       [0.99359706, 0.86197087, 1.        ],\n",
       "       [0.0734541 , 0.40481988, 0.        ],\n",
       "       [0.96860844, 0.36524376, 1.        ],\n",
       "       [0.42546984, 0.63961237, 0.        ],\n",
       "       [0.17805317, 0.51509542, 0.        ],\n",
       "       [0.74045811, 0.12053161, 0.        ],\n",
       "       [0.58875749, 0.38451613, 0.        ],\n",
       "       [0.17797976, 0.02320994, 1.        ],\n",
       "       [0.10789016, 0.56326509, 0.        ],\n",
       "       [0.57727082, 0.23064586, 0.        ],\n",
       "       [0.09313251, 0.69552393, 0.        ],\n",
       "       [0.60136076, 0.42250872, 1.        ],\n",
       "       [0.50004975, 0.42044205, 0.        ],\n",
       "       [0.295091  , 0.67240915, 0.        ],\n",
       "       [0.00221555, 0.01075505, 1.        ]])"
      ]
     },
     "execution_count": 221,
     "metadata": {},
     "output_type": "execute_result"
    }
   ],
   "source": [
    "def initialiseLabel(cluster,n,data) :\n",
    "    labels = np.random.choice(cluster,n)#클러스터와 n사이에 랜덤해서 픽\n",
    "    data=np.column_stack((data,labels))#data 값을 1열은 데이터값 labels값을 2열의값으로 만듬\n",
    "    return (data)\n",
    "data=initialiseLabel(2,30,data) #3o개의 포인트클러스터와 2개의 클러스터에 의한 0과1로 붙여서 데이터라는 변수 만듬\n",
    "data"
   ]
  },
  {
   "cell_type": "markdown",
   "metadata": {},
   "source": [
    "# ComputeCentroid function"
   ]
  },
  {
   "cell_type": "code",
   "execution_count": 222,
   "metadata": {},
   "outputs": [
    {
     "data": {
      "text/plain": [
       "array([[0.41884966, 0.47235617, 0.        ],\n",
       "       [0.53189395, 0.42930752, 1.        ]])"
      ]
     },
     "execution_count": 222,
     "metadata": {},
     "output_type": "execute_result"
    }
   ],
   "source": [
    "def computeCentroid(data,cluster) :\n",
    "    CentroidT= np.zeros((1,3)) #np.zero를 사용하여 공행렬만듬\n",
    "    for i in range(cluster):\n",
    "        centroid=np.mean(data[data[:,2]==i],axis=0) #data의 뒤에서 두번째가 cluster값과 일치한값들만 추출하여 평균 구함\n",
    "        CentroidT = np.vstack([CentroidT,centroid]) # CentroidT (공행렬)과 평균값들을 합침\n",
    "    CentroidT = np.delete(CentroidT,0,0) #CentroidT값 중 제거원소 인덱스=0 axis=0\n",
    "    return (CentroidT)\n",
    "Cent=computeCentroid(data,2)\n",
    "Cent"
   ]
  },
  {
   "cell_type": "markdown",
   "metadata": {},
   "source": [
    "# Compute Distance"
   ]
  },
  {
   "cell_type": "code",
   "execution_count": 223,
   "metadata": {},
   "outputs": [
    {
     "name": "stdout",
     "output_type": "stream",
     "text": [
      "[[0.38633908 0.48033711]]\n"
     ]
    }
   ],
   "source": [
    "def computeDistance(v1,v2) :\n",
    "    return sum([(x-y)**2 for (x,y) in zip(v1,v2)])**(0.5) #유클리디안 거리 공식\n",
    "print(centroid[0:1,:2])"
   ]
  },
  {
   "cell_type": "markdown",
   "metadata": {},
   "source": [
    "# ComputeEnergy Function"
   ]
  },
  {
   "cell_type": "code",
   "execution_count": 228,
   "metadata": {
    "scrolled": false
   },
   "outputs": [
    {
     "name": "stdout",
     "output_type": "stream",
     "text": [
      "[3.50478736 1.8992043 ]\n"
     ]
    }
   ],
   "source": [
    "def computeEnergy(data,Cent,cluster,counts) :\n",
    "    energy=0;diste=0;\n",
    "    for i in range(cluster):\n",
    "        NewData=data[data[:,2]==i]#data의 값 중 2번째열값이 i랑같은 값 추출\n",
    "        for k in range(counts):\n",
    "            dist=computeDistance(NewData[k:k+1,:2],Cent[i:i+1,:2]) \n",
    "            energy+=dist**2 \n",
    "    return (energy)\n",
    "\n",
    "print(computeEnergy(data,Cent,3,30))"
   ]
  },
  {
   "cell_type": "markdown",
   "metadata": {},
   "source": [
    "# plot"
   ]
  },
  {
   "cell_type": "code",
   "execution_count": 212,
   "metadata": {
    "scrolled": true
   },
   "outputs": [
    {
     "name": "stdout",
     "output_type": "stream",
     "text": [
      "0\n",
      "1\n"
     ]
    },
    {
     "data": {
      "image/png": "[encoded data removed]",
      "text/plain": [
       "<Figure size 432x288 with 1 Axes>"
      ]
     },
     "metadata": {},
     "output_type": "display_data"
    }
   ],
   "source": [
    "for i in range(2):\n",
    "    print(i)\n",
    "    plotplot=data[data[:,2]==i]\n",
    "    plt.plot(plotplot[:,0], plotplot[:,1],linestyle = 'None',marker=\"o\",color=\"rg\"[i])"
   ]
  }
 ],
 "metadata": {
  "kernelspec": {
   "display_name": "Python 3",
   "language": "python",
   "name": "python3"
  },
  "language_info": {
   "codemirror_mode": {
    "name": "ipython",
    "version": 3
   },
   "file_extension": ".py",
   "mimetype": "text/x-python",
   "name": "python",
   "nbconvert_exporter": "python",
   "pygments_lexer": "ipython3",
   "version": "3.6.5"
  }
 },
 "nbformat": 4,
 "nbformat_minor": 2
}
