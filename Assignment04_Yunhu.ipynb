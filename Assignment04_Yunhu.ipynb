{
 "cells": [
  {
   "cell_type": "markdown",
   "metadata": {},
   "source": [
    "# Name: Yunhu_Kim\n",
    "# Student Number: 2018120195\n",
    "# Github link : https://github.com/yunhu0110/assignment01"
   ]
  },
  {
   "cell_type": "code",
   "execution_count": 54,
   "metadata": {},
   "outputs": [],
   "source": [
    "import random\n",
    "import numpy as np\n",
    "import matplotlib.pyplot as plt\n",
    "import pandas as pd\n",
    "import math\n",
    "import csv"
   ]
  },
  {
   "cell_type": "markdown",
   "metadata": {},
   "source": [
    "# Compute Distance "
   ]
  },
  {
   "cell_type": "code",
   "execution_count": 27,
   "metadata": {},
   "outputs": [],
   "source": [
    "def computeDistance(vone,vtwo) : # 유클리디안 거리를 통해 distance 찾음\n",
    "    return np.sqrt(np.sum((vone-vtwo)**2))"
   ]
  },
  {
   "cell_type": "markdown",
   "metadata": {},
   "source": [
    "# InitialiseLabel"
   ]
  },
  {
   "cell_type": "code",
   "execution_count": 28,
   "metadata": {},
   "outputs": [],
   "source": [
    "def initialiseLabel(cc,pc,dataFrame) : # 샘플링 (Clustercount 개수중,pointCluster만큼 뽑음 중복가능)\n",
    "    label = np.random.choice(cc,pc)\n",
    "    dataf=np.column_stack((dataFrame,label))# dataframe과 label 붙임\n",
    "    return (dataf)"
   ]
  },
  {
   "cell_type": "markdown",
   "metadata": {},
   "source": [
    "# Compute Centroid"
   ]
  },
  {
   "cell_type": "code",
   "execution_count": 29,
   "metadata": {},
   "outputs": [],
   "source": [
    "def computeCentroid(dataFrame,cc) : # 각 클러스터당 평균값을 중심으로하여 반환\n",
    "    Centroid1 = np.empty((0,785))\n",
    "    for i in range(cc):\n",
    "        centroid=np.mean(dataFrame[dataFrame[:,784]==i],axis=0)\n",
    "        Tcentroid = centroid.reshape(1,785)\n",
    "        Centroid1 = np.vstack([Centroid1,Tcentroid])\n",
    "    return (Centroid1)"
   ]
  },
  {
   "cell_type": "markdown",
   "metadata": {},
   "source": [
    "# assignLabel"
   ]
  },
  {
   "cell_type": "code",
   "execution_count": 30,
   "metadata": {},
   "outputs": [],
   "source": [
    "def assignLabel(dataFrame,centroid,cc,pc) : # 각 클러스터의 중심값과의 각 인자의 거리를 계산해서 반환\n",
    "    for i in range(pc):\n",
    "        Dist = math.inf; \n",
    "        Indexd=0;\n",
    "        distance=0;\n",
    "        for k in range(cc):\n",
    "            distance=computeDistance(dataFrame[i:i+1,:784],centroid[k:k+1,:784])\n",
    "            if distance<Dist:\n",
    "                Dist=distance;Indexd=k\n",
    "            dataFrame[i:i+1,784:785]=Indexd\n",
    "    return (dataFrame)\n",
    "        "
   ]
  },
  {
   "cell_type": "markdown",
   "metadata": {},
   "source": [
    "# Compute Energy"
   ]
  },
  {
   "cell_type": "code",
   "execution_count": 43,
   "metadata": {},
   "outputs": [],
   "source": [
    "def computeEnergy(dataFrame,centroid,cc) : # Costfunction으로서 센트로이드와의 거리의 제곱 합\n",
    "    energy=0;\n",
    "    distance=0;\n",
    "    for i in range(cc):\n",
    "        idx=dataFrame[dataFrame[:,784]==i]\n",
    "        rc=np.size(idx,0)\n",
    "        for k in range(rc):\n",
    "            distance=computeDistance(idx[k:k+1,:784],centroid[i:i+1,:784])\n",
    "            energy+=np.square(distance) \n",
    "    return (energy)"
   ]
  },
  {
   "cell_type": "markdown",
   "metadata": {},
   "source": [
    "# Compute Accuracy"
   ]
  },
  {
   "cell_type": "code",
   "execution_count": 32,
   "metadata": {},
   "outputs": [],
   "source": [
    "def computeAccuracy(dataFrame,trueLabels,cc) :#정확도 계산\n",
    "    realc=0\n",
    "    for i in range(cc):\n",
    "        cl=trueLabels[dataFrame[:,784]==i]\n",
    "        cl=cl.astype(int)\n",
    "        label=np.bincount(cl).argmax()\n",
    "        realc+=sum(cl[:]==label)\n",
    "        \n",
    "    accuracy=realc/np.size(dataFrame,0)\n",
    "    return (accuracy)"
   ]
  },
  {
   "cell_type": "markdown",
   "metadata": {},
   "source": [
    "# K Means Clustering"
   ]
  },
  {
   "cell_type": "code",
   "execution_count": 45,
   "metadata": {},
   "outputs": [],
   "source": [
    "def kmenasClustering(dataFrame,true,centroid,cc,pc) : # 앞서 만든 함수들을 토대로 k-means clustering을 수행한다 \n",
    "    iteration=1;\n",
    "    resultEnergy=0;\n",
    "    eneArray=np.array([]);\n",
    "    accArray=np.array([])\n",
    "    while True:\n",
    "        energy=computeEnergy(dataFrame,centroid,cc)\n",
    "        accuracy=computeAccuracy(dataFrame,true,cc)\n",
    "        accArray=np.append(accArray,accuracy)\n",
    "        eneArray=np.append(eneArray,energy)\n",
    "        if(energy==resultEnergy): \n",
    "            break\n",
    "        resultEnergy=energy\n",
    "        dataFrame=assignLabel(dataFrame,centroid,cc,pc)\n",
    "        centroid=computeCentroid(dataFrame,cc)\n",
    "        iteration+=1\n",
    "    return (dataFrame,accArray,eneArray)"
   ]
  },
  {
   "cell_type": "markdown",
   "metadata": {},
   "source": [
    "# Read data & Using K Means Clustering"
   ]
  },
  {
   "cell_type": "code",
   "execution_count": 62,
   "metadata": {},
   "outputs": [],
   "source": [
    "da=pd.read_csv('C:\\mnist_test.csv', sep=',',header=None)\n",
    "data=np.array(da)"
   ]
  },
  {
   "cell_type": "code",
   "execution_count": 70,
   "metadata": {
    "scrolled": true
   },
   "outputs": [],
   "source": [
    "df=data[:,1:]\n",
    "RealLabels=data[:,0] \n",
    "df=initialiseLabel(10,np.size(df,0),df)\n",
    "centroid = computeCentroid(df,10)\n",
    "resultDf,resultacc,resultene=  kmenasClustering(df,RealLabels,centroid,10,np.size(df,0))"
   ]
  },
  {
   "cell_type": "code",
   "execution_count": 65,
   "metadata": {
    "scrolled": false
   },
   "outputs": [
    {
     "data": {
      "image/png": "[encoded data removed]",
      "text/plain": [
       "<Figure size 432x288 with 10 Axes>"
      ]
     },
     "metadata": {},
     "output_type": "display_data"
    }
   ],
   "source": [
    "size_row    = 28    # height of the image\n",
    "size_col    = 28    # width of the image\n",
    "\n",
    "# num_image   = len(data)\n",
    "# count       = 0     # count for the number of images\n",
    "\n",
    "centroidImg=centroid[:,:784]\n",
    "centroidImgT=centroidImg.transpose()\n",
    "\n",
    "for i in range(10):\n",
    "    plt.subplot(2, 5, i+1)\n",
    "    plt.title(i)\n",
    "    plt.imshow(centroidImgT[:,i].reshape((size_row, size_col)), cmap='Greys', interpolation='None') \n",
    "    \n",
    "    frame   = plt.gca()\n",
    "    frame.axes.get_xaxis().set_visible(False)\n",
    "    frame.axes.get_yaxis().set_visible(False)\n"
   ]
  },
  {
   "cell_type": "markdown",
   "metadata": {},
   "source": [
    "# Plot"
   ]
  },
  {
   "cell_type": "code",
   "execution_count": 71,
   "metadata": {},
   "outputs": [
    {
     "data": {
      "image/png": "[encoded data removed]",
      "text/plain": [
       "<Figure size 432x288 with 10 Axes>"
      ]
     },
     "metadata": {},
     "output_type": "display_data"
    }
   ],
   "source": [
    "finalCentroid=computeCentroid(finalDf,10)\n",
    "finalCentroid\n",
    "\n",
    "for i in range(10):\n",
    "    cluster=trueLabels[finalDf[:,784]==i]\n",
    "    cluster=cluster.astype(int)\n",
    "    label=np.bincount(cluster).argmax()\n",
    "    finalCentroid[i,784]=label\n",
    "\n",
    "finalCentroid=finalCentroid[finalCentroid[:,784].argsort()]    \n",
    "\n",
    "finalCentroidImg=finalCentroid[:,:784]\n",
    "finalCentroidImgT=finalCentroidImg.transpose()\n",
    "\n",
    "for i in range(10):\n",
    "    plt.subplot(2, 5, i+1)\n",
    "    plt.title(i)\n",
    "    plt.imshow(finalCentroidImgT[:,i].reshape((size_row, size_col)), cmap='Greys', interpolation='None') \n",
    "    \n",
    "    frame   = plt.gca()\n",
    "    frame.axes.get_xaxis().set_visible(False)\n",
    "    frame.axes.get_yaxis().set_visible(False)"
   ]
  }
 ],
 "metadata": {
  "kernelspec": {
   "display_name": "Python 3",
   "language": "python",
   "name": "python3"
  },
  "language_info": {
   "codemirror_mode": {
    "name": "ipython",
    "version": 3
   },
   "file_extension": ".py",
   "mimetype": "text/x-python",
   "name": "python",
   "nbconvert_exporter": "python",
   "pygments_lexer": "ipython3",
   "version": "3.6.5"
  }
 },
 "nbformat": 4,
 "nbformat_minor": 2
}
